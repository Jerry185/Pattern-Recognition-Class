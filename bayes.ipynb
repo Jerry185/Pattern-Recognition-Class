{
 "cells": [
  {
   "cell_type": "markdown",
   "metadata": {},
   "source": [
    "![](https://pic3.zhimg.com/v2-5e0bf7df2f35e4db5aacede20683b85a_1200x500.jpg)\n",
    "# 贝叶斯分类实现手写数字识别\n"
   ]
  },
  {
   "cell_type": "markdown",
   "metadata": {},
   "source": [
    " # $ P(A|B)=\\frac{P(B|A)P(A)}{P(B)} $\n",
    " \n",
    " \n",
    " # $P(B_i|A)=\\frac{P(A|B_i)P(B_i)}{\\sum_{j=1}^n{P(A|B_j)P(B_j)}}$"
   ]
  },
  {
   "cell_type": "code",
   "execution_count": 1,
   "metadata": {},
   "outputs": [
    {
     "data": {
      "image/png": "[encoded data removed]",
      "text/plain": [
       "<Figure size 800x400 with 8 Axes>"
      ]
     },
     "metadata": {},
     "output_type": "display_data"
    }
   ],
   "source": [
    "%matplotlib inline\n",
    "import matplotlib.pyplot as plt\n",
    "import numpy as np\n",
    "from sklearn import datasets\n",
    "\n",
    "digits = datasets.load_digits() # 加载数据\n",
    "\n",
    "# 把数据所代表的图片显示出来\n",
    "images_and_labels = list(zip(digits.images, digits.target))\n",
    "plt.figure(figsize=(4, 2), dpi=200)\n",
    "for index, (image, label) in enumerate(images_and_labels[:8]):\n",
    "    plt.subplot(2, 4, index + 1)\n",
    "    plt.axis('off')\n",
    "    plt.imshow(image, cmap=plt.cm.gray_r, interpolation='nearest')\n",
    "    plt.title('Digit: %i' % label, fontsize=7)"
   ]
  },
  {
   "cell_type": "code",
   "execution_count": 6,
   "metadata": {},
   "outputs": [
    {
     "name": "stdout",
     "output_type": "stream",
     "text": [
      "shape of raw image data: (1797, 8, 8)\n",
      "shape of data: (1797, 64)\n"
     ]
    }
   ],
   "source": [
    "print(\"shape of raw image data: {0}\".format(digits.images.shape))\n",
    "print(\"shape of data: {0}\".format(digits.data.shape))\n",
    "train_num = 1797\n",
    "test_num = 100\n",
    "class_num = 10\n",
    "desimon = 64\n",
    "\n",
    "# 把数据分成训练数据集和测试数据集\n",
    "from sklearn.cross_validation import train_test_split\n",
    "Xtrain, Xtest, Ytrain, Ytest = train_test_split(digits.data, digits.target, test_size=0.20, random_state=2);\n"
   ]
  },
  {
   "cell_type": "code",
   "execution_count": 7,
   "metadata": {},
   "outputs": [
    {
     "name": "stdout",
     "output_type": "stream",
     "text": [
      "0 prediction: 0 actual: 4\n",
      "1 prediction: 0 actual: 0\n",
      "2 prediction: 0 actual: 9\n",
      "3 prediction: 1 actual: 1\n",
      "4 prediction: 0 actual: 4\n",
      "5 prediction: 0 actual: 7\n",
      "6 prediction: 1 actual: 1\n",
      "7 prediction: 5 actual: 5\n",
      "8 prediction: 1 actual: 1\n",
      "9 prediction: 0 actual: 6\n",
      "10 prediction: 6 actual: 6\n",
      "11 prediction: 0 actual: 7\n",
      "12 prediction: 6 actual: 6\n",
      "13 prediction: 2 actual: 1\n",
      "14 prediction: 0 actual: 5\n",
      "15 prediction: 5 actual: 5\n",
      "16 prediction: 0 actual: 4\n",
      "17 prediction: 0 actual: 6\n",
      "18 prediction: 0 actual: 2\n",
      "19 prediction: 7 actual: 7\n",
      "20 prediction: 4 actual: 4\n",
      "21 prediction: 0 actual: 6\n",
      "22 prediction: 4 actual: 4\n",
      "23 prediction: 0 actual: 1\n",
      "24 prediction: 5 actual: 5\n",
      "25 prediction: 0 actual: 2\n",
      "26 prediction: 9 actual: 9\n",
      "27 prediction: 5 actual: 5\n",
      "28 prediction: 0 actual: 4\n",
      "29 prediction: 6 actual: 6\n",
      "30 prediction: 5 actual: 5\n",
      "31 prediction: 6 actual: 6\n",
      "32 prediction: 3 actual: 3\n",
      "33 prediction: 0 actual: 4\n",
      "34 prediction: 0 actual: 0\n",
      "35 prediction: 0 actual: 9\n",
      "36 prediction: 0 actual: 9\n",
      "37 prediction: 0 actual: 8\n",
      "38 prediction: 0 actual: 4\n",
      "39 prediction: 6 actual: 6\n",
      "40 prediction: 8 actual: 8\n",
      "41 prediction: 1 actual: 8\n",
      "42 prediction: 5 actual: 5\n",
      "43 prediction: 0 actual: 7\n",
      "44 prediction: 0 actual: 9\n",
      "45 prediction: 4 actual: 6\n",
      "46 prediction: 0 actual: 9\n",
      "47 prediction: 6 actual: 6\n",
      "48 prediction: 0 actual: 1\n",
      "49 prediction: 0 actual: 3\n",
      "50 prediction: 0 actual: 0\n",
      "51 prediction: 0 actual: 1\n",
      "52 prediction: 9 actual: 9\n",
      "53 prediction: 7 actual: 7\n",
      "54 prediction: 3 actual: 3\n",
      "55 prediction: 0 actual: 3\n",
      "56 prediction: 1 actual: 1\n",
      "57 prediction: 0 actual: 1\n",
      "58 prediction: 8 actual: 8\n",
      "59 prediction: 0 actual: 8\n",
      "60 prediction: 0 actual: 9\n",
      "61 prediction: 8 actual: 8\n",
      "62 prediction: 5 actual: 5\n",
      "63 prediction: 0 actual: 4\n",
      "64 prediction: 0 actual: 4\n",
      "65 prediction: 0 actual: 7\n",
      "66 prediction: 7 actual: 3\n",
      "67 prediction: 5 actual: 5\n",
      "68 prediction: 8 actual: 8\n",
      "69 prediction: 4 actual: 4\n",
      "70 prediction: 3 actual: 3\n",
      "71 prediction: 0 actual: 1\n",
      "72 prediction: 3 actual: 3\n",
      "73 prediction: 8 actual: 8\n",
      "74 prediction: 0 actual: 7\n",
      "75 prediction: 0 actual: 3\n",
      "76 prediction: 3 actual: 3\n",
      "77 prediction: 0 actual: 0\n",
      "78 prediction: 0 actual: 8\n",
      "79 prediction: 7 actual: 7\n",
      "80 prediction: 0 actual: 2\n",
      "81 prediction: 8 actual: 8\n",
      "82 prediction: 0 actual: 5\n",
      "83 prediction: 8 actual: 3\n",
      "84 prediction: 8 actual: 8\n",
      "85 prediction: 7 actual: 7\n",
      "86 prediction: 6 actual: 6\n",
      "87 prediction: 4 actual: 4\n",
      "88 prediction: 6 actual: 6\n",
      "89 prediction: 2 actual: 2\n",
      "90 prediction: 2 actual: 2\n",
      "91 prediction: 0 actual: 0\n",
      "92 prediction: 5 actual: 1\n",
      "93 prediction: 1 actual: 1\n",
      "94 prediction: 5 actual: 5\n",
      "95 prediction: 3 actual: 3\n",
      "96 prediction: 5 actual: 5\n",
      "97 prediction: 7 actual: 7\n",
      "98 prediction: 0 actual: 6\n",
      "99 prediction: 8 actual: 8\n",
      "accurancy: 0.55\n"
     ]
    }
   ],
   "source": [
    "\n",
    "prediction = []\n",
    "for i in range(test_num):\n",
    "    test = Xtest[i]\n",
    "    class_rate = []\n",
    "    # 求每一个类别的概率，这里MNIST数据集共有10个类别\n",
    "    for j in range(class_num):\n",
    "        # 找到样本中类别是j的下标\n",
    "        class_is_j_index = np.where(Ytrain[:train_num] == j)[0]\n",
    "        # 类别是j的比率\n",
    "        j_rate = len(class_is_j_index)/len(Ytrain)\n",
    "        # 取出类别是j的样本\n",
    "        class_is_j_x = np.array([Xtrain[x] for x in class_is_j_index])\n",
    "        # 遍历每个维度\n",
    "        for k in range(desimon):\n",
    "            # 找到j类样本集中该维度下的值与测试样本中该维度的值的差小于0.8的样本，并求占j类样本的比率，与j_rate依次相乘\n",
    "            # 这里我规定的界限是0.8，因为MNIST中样本数字在0到1之间，并且是两端分布，要么是0，要么接近1。\n",
    "            j_rate *= len([item for item in class_is_j_x if np.fabs(item[k] - test[k]) < 0.8])*1.0 / len(class_is_j_x)\n",
    "        class_rate.append(j_rate)\n",
    "    # 找到贝叶斯预测值最大的类别，作为该测试的预测类别，放到结果集中\n",
    "    prediction.append(np.argmax(class_rate))\n",
    "    print(i, 'prediction:', prediction[-1], 'actual:', Ytest[i])\n",
    "\n",
    "accurancy = np.sum(np.equal(prediction, Ytest[:test_num])) / test_num\n",
    "print('accurancy:', accurancy)\n"
   ]
  },
  {
   "cell_type": "code",
   "execution_count": null,
   "metadata": {},
   "outputs": [],
   "source": []
  }
 ],
 "metadata": {
  "kernelspec": {
   "display_name": "Python 3",
   "language": "python",
   "name": "python3"
  },
  "language_info": {
   "codemirror_mode": {
    "name": "ipython",
    "version": 3
   },
   "file_extension": ".py",
   "mimetype": "text/x-python",
   "name": "python",
   "nbconvert_exporter": "python",
   "pygments_lexer": "ipython3",
   "version": "3.6.3"
  }
 },
 "nbformat": 4,
 "nbformat_minor": 4
}
